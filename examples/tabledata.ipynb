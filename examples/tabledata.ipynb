{
 "cells": [
  {
   "cell_type": "code",
   "execution_count": 1,
   "metadata": {},
   "outputs": [
    {
     "data": {
      "text/plain": [
       "{'sample': [OrderedDict([('a', 1), ('b', 2)]),\n",
       "  OrderedDict([('a', Decimal('3.3')), ('b', Decimal('4.4'))])]}"
      ]
     },
     "execution_count": 1,
     "metadata": {},
     "output_type": "execute_result"
    }
   ],
   "source": [
    "from tabledata import TableData\n",
    "\n",
    "TableData(\n",
    "    \"sample\",\n",
    "    [\"a\", \"b\"],\n",
    "    [\n",
    "        [1, 2],\n",
    "        [3.3, 4.4],\n",
    "    ],\n",
    ").as_dict()"
   ]
  },
  {
   "cell_type": "code",
   "execution_count": 2,
   "metadata": {},
   "outputs": [
    {
     "name": "stdout",
     "output_type": "stream",
     "text": [
      "Row(a=1, b=2)\n",
      "Row(a=Decimal('3.3'), b=Decimal('4.4'))\n"
     ]
    }
   ],
   "source": [
    "from tabledata import TableData\n",
    "\n",
    "records = TableData(\n",
    "    \"sample\",\n",
    "    [\"a\", \"b\"],\n",
    "    [\n",
    "        [1, 2],\n",
    "        [3.3, 4.4],\n",
    "    ],\n",
    ").as_tuple()\n",
    "for record in records:\n",
    "    print(record)"
   ]
  },
  {
   "cell_type": "code",
   "execution_count": null,
   "metadata": {},
   "outputs": [],
   "source": []
  }
 ],
 "metadata": {
  "kernelspec": {
   "display_name": "Python 3",
   "language": "python",
   "name": "python3"
  },
  "language_info": {
   "codemirror_mode": {
    "name": "ipython",
    "version": 3
   },
   "file_extension": ".py",
   "mimetype": "text/x-python",
   "name": "python",
   "nbconvert_exporter": "python",
   "pygments_lexer": "ipython3",
   "version": "3.7.1"
  }
 },
 "nbformat": 4,
 "nbformat_minor": 2
}
